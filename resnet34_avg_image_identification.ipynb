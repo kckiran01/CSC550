{
  "nbformat": 4,
  "nbformat_minor": 0,
  "metadata": {
    "colab": {
      "name": "resnet34_avg_image_identification.ipynb",
      "provenance": [],
      "collapsed_sections": [],
      "mount_file_id": "1_Wxj6n0c5hddX5hcMwTbRf-McMfK_rqZ",
      "authorship_tag": "ABX9TyNWO18xYQL+ax4AmPuvx/A0",
      "include_colab_link": true
    },
    "kernelspec": {
      "name": "python3",
      "display_name": "Python 3"
    },
    "language_info": {
      "name": "python"
    },
    "accelerator": "GPU",
    "widgets": {
      "application/vnd.jupyter.widget-state+json": {
        "dc1892c5f6da45abb3b85c133b902cf8": {
          "model_module": "@jupyter-widgets/controls",
          "model_name": "HBoxModel",
          "model_module_version": "1.5.0",
          "state": {
            "_view_name": "HBoxView",
            "_dom_classes": [],
            "_model_name": "HBoxModel",
            "_view_module": "@jupyter-widgets/controls",
            "_model_module_version": "1.5.0",
            "_view_count": null,
            "_view_module_version": "1.5.0",
            "box_style": "",
            "layout": "IPY_MODEL_738b4848c39e40c5b757a7eca2680962",
            "_model_module": "@jupyter-widgets/controls",
            "children": [
              "IPY_MODEL_c7d62ae168ce441295cbba4f4de63d8b",
              "IPY_MODEL_fd903d204b76453ab4afe28434ff10fb"
            ]
          }
        },
        "738b4848c39e40c5b757a7eca2680962": {
          "model_module": "@jupyter-widgets/base",
          "model_name": "LayoutModel",
          "model_module_version": "1.2.0",
          "state": {
            "_view_name": "LayoutView",
            "grid_template_rows": null,
            "right": null,
            "justify_content": null,
            "_view_module": "@jupyter-widgets/base",
            "overflow": null,
            "_model_module_version": "1.2.0",
            "_view_count": null,
            "flex_flow": null,
            "width": null,
            "min_width": null,
            "border": null,
            "align_items": null,
            "bottom": null,
            "_model_module": "@jupyter-widgets/base",
            "top": null,
            "grid_column": null,
            "overflow_y": null,
            "overflow_x": null,
            "grid_auto_flow": null,
            "grid_area": null,
            "grid_template_columns": null,
            "flex": null,
            "_model_name": "LayoutModel",
            "justify_items": null,
            "grid_row": null,
            "max_height": null,
            "align_content": null,
            "visibility": null,
            "align_self": null,
            "height": null,
            "min_height": null,
            "padding": null,
            "grid_auto_rows": null,
            "grid_gap": null,
            "max_width": null,
            "order": null,
            "_view_module_version": "1.2.0",
            "grid_template_areas": null,
            "object_position": null,
            "object_fit": null,
            "grid_auto_columns": null,
            "margin": null,
            "display": null,
            "left": null
          }
        },
        "c7d62ae168ce441295cbba4f4de63d8b": {
          "model_module": "@jupyter-widgets/controls",
          "model_name": "FloatProgressModel",
          "model_module_version": "1.5.0",
          "state": {
            "_view_name": "ProgressView",
            "style": "IPY_MODEL_1b9c77045b75409595c7b2e0bc695dcb",
            "_dom_classes": [],
            "description": "100%",
            "_model_name": "FloatProgressModel",
            "bar_style": "success",
            "max": 87319819,
            "_view_module": "@jupyter-widgets/controls",
            "_model_module_version": "1.5.0",
            "value": 87319819,
            "_view_count": null,
            "_view_module_version": "1.5.0",
            "orientation": "horizontal",
            "min": 0,
            "description_tooltip": null,
            "_model_module": "@jupyter-widgets/controls",
            "layout": "IPY_MODEL_2e89587d754a48ccb3474750792ac43f"
          }
        },
        "fd903d204b76453ab4afe28434ff10fb": {
          "model_module": "@jupyter-widgets/controls",
          "model_name": "HTMLModel",
          "model_module_version": "1.5.0",
          "state": {
            "_view_name": "HTMLView",
            "style": "IPY_MODEL_40e93d1296a54e46b1b7dba9eab19a23",
            "_dom_classes": [],
            "description": "",
            "_model_name": "HTMLModel",
            "placeholder": "​",
            "_view_module": "@jupyter-widgets/controls",
            "_model_module_version": "1.5.0",
            "value": " 83.3M/83.3M [00:05&lt;00:00, 16.1MB/s]",
            "_view_count": null,
            "_view_module_version": "1.5.0",
            "description_tooltip": null,
            "_model_module": "@jupyter-widgets/controls",
            "layout": "IPY_MODEL_e3c8bf941805476d88026b74d8d4ae52"
          }
        },
        "1b9c77045b75409595c7b2e0bc695dcb": {
          "model_module": "@jupyter-widgets/controls",
          "model_name": "ProgressStyleModel",
          "model_module_version": "1.5.0",
          "state": {
            "_view_name": "StyleView",
            "_model_name": "ProgressStyleModel",
            "description_width": "initial",
            "_view_module": "@jupyter-widgets/base",
            "_model_module_version": "1.5.0",
            "_view_count": null,
            "_view_module_version": "1.2.0",
            "bar_color": null,
            "_model_module": "@jupyter-widgets/controls"
          }
        },
        "2e89587d754a48ccb3474750792ac43f": {
          "model_module": "@jupyter-widgets/base",
          "model_name": "LayoutModel",
          "model_module_version": "1.2.0",
          "state": {
            "_view_name": "LayoutView",
            "grid_template_rows": null,
            "right": null,
            "justify_content": null,
            "_view_module": "@jupyter-widgets/base",
            "overflow": null,
            "_model_module_version": "1.2.0",
            "_view_count": null,
            "flex_flow": null,
            "width": null,
            "min_width": null,
            "border": null,
            "align_items": null,
            "bottom": null,
            "_model_module": "@jupyter-widgets/base",
            "top": null,
            "grid_column": null,
            "overflow_y": null,
            "overflow_x": null,
            "grid_auto_flow": null,
            "grid_area": null,
            "grid_template_columns": null,
            "flex": null,
            "_model_name": "LayoutModel",
            "justify_items": null,
            "grid_row": null,
            "max_height": null,
            "align_content": null,
            "visibility": null,
            "align_self": null,
            "height": null,
            "min_height": null,
            "padding": null,
            "grid_auto_rows": null,
            "grid_gap": null,
            "max_width": null,
            "order": null,
            "_view_module_version": "1.2.0",
            "grid_template_areas": null,
            "object_position": null,
            "object_fit": null,
            "grid_auto_columns": null,
            "margin": null,
            "display": null,
            "left": null
          }
        },
        "40e93d1296a54e46b1b7dba9eab19a23": {
          "model_module": "@jupyter-widgets/controls",
          "model_name": "DescriptionStyleModel",
          "model_module_version": "1.5.0",
          "state": {
            "_view_name": "StyleView",
            "_model_name": "DescriptionStyleModel",
            "description_width": "",
            "_view_module": "@jupyter-widgets/base",
            "_model_module_version": "1.5.0",
            "_view_count": null,
            "_view_module_version": "1.2.0",
            "_model_module": "@jupyter-widgets/controls"
          }
        },
        "e3c8bf941805476d88026b74d8d4ae52": {
          "model_module": "@jupyter-widgets/base",
          "model_name": "LayoutModel",
          "model_module_version": "1.2.0",
          "state": {
            "_view_name": "LayoutView",
            "grid_template_rows": null,
            "right": null,
            "justify_content": null,
            "_view_module": "@jupyter-widgets/base",
            "overflow": null,
            "_model_module_version": "1.2.0",
            "_view_count": null,
            "flex_flow": null,
            "width": null,
            "min_width": null,
            "border": null,
            "align_items": null,
            "bottom": null,
            "_model_module": "@jupyter-widgets/base",
            "top": null,
            "grid_column": null,
            "overflow_y": null,
            "overflow_x": null,
            "grid_auto_flow": null,
            "grid_area": null,
            "grid_template_columns": null,
            "flex": null,
            "_model_name": "LayoutModel",
            "justify_items": null,
            "grid_row": null,
            "max_height": null,
            "align_content": null,
            "visibility": null,
            "align_self": null,
            "height": null,
            "min_height": null,
            "padding": null,
            "grid_auto_rows": null,
            "grid_gap": null,
            "max_width": null,
            "order": null,
            "_view_module_version": "1.2.0",
            "grid_template_areas": null,
            "object_position": null,
            "object_fit": null,
            "grid_auto_columns": null,
            "margin": null,
            "display": null,
            "left": null
          }
        }
      }
    }
  },
  "cells": [
    {
      "cell_type": "markdown",
      "metadata": {
        "id": "view-in-github",
        "colab_type": "text"
      },
      "source": [
        "<a href=\"https://colab.research.google.com/github/kckiran01/CSC550/blob/master/resnet34_avg_image_identification.ipynb\" target=\"_parent\"><img src=\"https://colab.research.google.com/assets/colab-badge.svg\" alt=\"Open In Colab\"/></a>"
      ]
    },
    {
      "cell_type": "code",
      "metadata": {
        "colab": {
          "base_uri": "https://localhost:8080/"
        },
        "id": "RY2b8WBDfuco",
        "outputId": "3b36b19f-14cd-4a99-cefc-77153a280e30"
      },
      "source": [
        "from google.colab import drive\n",
        "drive.mount('/content/drive')\n",
        "path='/content/drive/MyDrive/csc591_avg'\n",
        "train_dir='/content/drive/MyDrive/csc591_avg/train_swipeLeft'\n",
        "test_dir='/content/drive/MyDrive/csc591_avg/test_swipeLeft'"
      ],
      "execution_count": 1,
      "outputs": [
        {
          "output_type": "stream",
          "text": [
            "Drive already mounted at /content/drive; to attempt to forcibly remount, call drive.mount(\"/content/drive\", force_remount=True).\n"
          ],
          "name": "stdout"
        }
      ]
    },
    {
      "cell_type": "markdown",
      "metadata": {
        "id": "UzF5WVNdimW0"
      },
      "source": [
        "You should rescale your data as dividing 1/255 to transform your pixel value from a range [0,255 ] to [0,1] to behave all images the same. After that, you can flow your images from their directories by specifying some parameters. The target size parameter helps you to resize your image as you specified. If you have two classes you should set the class mode parameter as “binary”."
      ]
    },
    {
      "cell_type": "code",
      "metadata": {
        "colab": {
          "base_uri": "https://localhost:8080/"
        },
        "id": "OIxFGahhg0xP",
        "outputId": "1f1ba18f-a58a-4895-d1ce-a0db58ae0dae"
      },
      "source": [
        "from tensorflow.keras.preprocessing.image import ImageDataGenerator\n",
        "\n",
        "#All images will be rescaled by 1./255 which may not necessary in our case though...Kiran\n",
        "\n",
        "train_datagen = ImageDataGenerator(rescale=1./255)\n",
        "test_datagen = ImageDataGenerator(rescale=1./255)\n",
        "\n",
        "#Flow training images in batches of 20 using train_datagen generator\n",
        "train_generator = train_datagen.flow_from_directory(\n",
        "    train_dir, # This is the cource directory for training images\n",
        "    target_size=(256,256), # All images will be resized..not sure if this is necessary--- Kiran\n",
        "    batch_size = 20,\n",
        "    class_mode='categorical')\n",
        "\n",
        "# Flow validation images in batches of 8 using test_datagen generator\n",
        "validation_generator = test_datagen.flow_from_directory(\n",
        "    test_dir,\n",
        "    target_size = (256,256),\n",
        "    batch_size=10,\n",
        "    shuffle=False,\n",
        "    class_mode='categorical')\n"
      ],
      "execution_count": 2,
      "outputs": [
        {
          "output_type": "stream",
          "text": [
            "Found 600 images belonging to 30 classes.\n",
            "Found 600 images belonging to 30 classes.\n"
          ],
          "name": "stdout"
        }
      ]
    },
    {
      "cell_type": "code",
      "metadata": {
        "id": "KrkDQtjGjHVw"
      },
      "source": [
        "import tensorflow as tf\n",
        "model = tf.keras.models.Sequential([\n",
        "                                    tf.keras.layers.Conv2D(16, (3,3), activation='relu', input_shape=(256,256,3)),\n",
        "                                    tf.keras.layers.Conv2D(16, (3,3), activation='relu'),\n",
        "                                    tf.keras.layers.MaxPooling2D(2,2),\n",
        "                                    tf.keras.layers.Conv2D(32, (3,3), activation='relu'),\n",
        "                                    tf.keras.layers.Conv2D(32, (3,3), activation='relu'),\n",
        "                                    tf.keras.layers.MaxPooling2D(2,2),\n",
        "                                    tf.keras.layers.Flatten(),\n",
        "                                    tf.keras.layers.Dense(20, activation = 'relu'),\n",
        "                                    tf.keras.layers.Dense(30, activation='softmax')\n",
        "])\n",
        "\n"
      ],
      "execution_count": 3,
      "outputs": []
    },
    {
      "cell_type": "code",
      "metadata": {
        "colab": {
          "base_uri": "https://localhost:8080/"
        },
        "id": "QHtc7flaciRC",
        "outputId": "c28739a3-9e07-4c03-8413-070f64ff6be5"
      },
      "source": [
        "train_generator.classes"
      ],
      "execution_count": 4,
      "outputs": [
        {
          "output_type": "execute_result",
          "data": {
            "text/plain": [
              "array([ 0,  0,  0,  0,  0,  0,  0,  0,  0,  0,  0,  0,  0,  0,  0,  0,  0,\n",
              "        0,  0,  0,  1,  1,  1,  1,  1,  1,  1,  1,  1,  1,  1,  1,  1,  1,\n",
              "        1,  1,  1,  1,  1,  1,  2,  2,  2,  2,  2,  2,  2,  2,  2,  2,  2,\n",
              "        2,  2,  2,  2,  2,  2,  2,  2,  2,  3,  3,  3,  3,  3,  3,  3,  3,\n",
              "        3,  3,  3,  3,  3,  3,  3,  3,  3,  3,  3,  3,  4,  4,  4,  4,  4,\n",
              "        4,  4,  4,  4,  4,  4,  4,  4,  4,  4,  4,  4,  4,  4,  4,  5,  5,\n",
              "        5,  5,  5,  5,  5,  5,  5,  5,  5,  5,  5,  5,  5,  5,  5,  5,  5,\n",
              "        5,  6,  6,  6,  6,  6,  6,  6,  6,  6,  6,  6,  6,  6,  6,  6,  6,\n",
              "        6,  6,  6,  6,  7,  7,  7,  7,  7,  7,  7,  7,  7,  7,  7,  7,  7,\n",
              "        7,  7,  7,  7,  7,  7,  7,  8,  8,  8,  8,  8,  8,  8,  8,  8,  8,\n",
              "        8,  8,  8,  8,  8,  8,  8,  8,  8,  8,  9,  9,  9,  9,  9,  9,  9,\n",
              "        9,  9,  9,  9,  9,  9,  9,  9,  9,  9,  9,  9,  9, 10, 10, 10, 10,\n",
              "       10, 10, 10, 10, 10, 10, 10, 10, 10, 10, 10, 10, 10, 10, 10, 10, 11,\n",
              "       11, 11, 11, 11, 11, 11, 11, 11, 11, 11, 11, 11, 11, 11, 11, 11, 11,\n",
              "       11, 11, 12, 12, 12, 12, 12, 12, 12, 12, 12, 12, 12, 12, 12, 12, 12,\n",
              "       12, 12, 12, 12, 12, 13, 13, 13, 13, 13, 13, 13, 13, 13, 13, 13, 13,\n",
              "       13, 13, 13, 13, 13, 13, 13, 13, 14, 14, 14, 14, 14, 14, 14, 14, 14,\n",
              "       14, 14, 14, 14, 14, 14, 14, 14, 14, 14, 14, 15, 15, 15, 15, 15, 15,\n",
              "       15, 15, 15, 15, 15, 15, 15, 15, 15, 15, 15, 15, 15, 15, 16, 16, 16,\n",
              "       16, 16, 16, 16, 16, 16, 16, 16, 16, 16, 16, 16, 16, 16, 16, 16, 16,\n",
              "       17, 17, 17, 17, 17, 17, 17, 17, 17, 17, 17, 17, 17, 17, 17, 17, 17,\n",
              "       17, 17, 17, 18, 18, 18, 18, 18, 18, 18, 18, 18, 18, 18, 18, 18, 18,\n",
              "       18, 18, 18, 18, 18, 18, 19, 19, 19, 19, 19, 19, 19, 19, 19, 19, 19,\n",
              "       19, 19, 19, 19, 19, 19, 19, 19, 19, 20, 20, 20, 20, 20, 20, 20, 20,\n",
              "       20, 20, 20, 20, 20, 20, 20, 20, 20, 20, 20, 20, 21, 21, 21, 21, 21,\n",
              "       21, 21, 21, 21, 21, 21, 21, 21, 21, 21, 21, 21, 21, 21, 21, 22, 22,\n",
              "       22, 22, 22, 22, 22, 22, 22, 22, 22, 22, 22, 22, 22, 22, 22, 22, 22,\n",
              "       22, 23, 23, 23, 23, 23, 23, 23, 23, 23, 23, 23, 23, 23, 23, 23, 23,\n",
              "       23, 23, 23, 23, 24, 24, 24, 24, 24, 24, 24, 24, 24, 24, 24, 24, 24,\n",
              "       24, 24, 24, 24, 24, 24, 24, 25, 25, 25, 25, 25, 25, 25, 25, 25, 25,\n",
              "       25, 25, 25, 25, 25, 25, 25, 25, 25, 25, 26, 26, 26, 26, 26, 26, 26,\n",
              "       26, 26, 26, 26, 26, 26, 26, 26, 26, 26, 26, 26, 26, 27, 27, 27, 27,\n",
              "       27, 27, 27, 27, 27, 27, 27, 27, 27, 27, 27, 27, 27, 27, 27, 27, 28,\n",
              "       28, 28, 28, 28, 28, 28, 28, 28, 28, 28, 28, 28, 28, 28, 28, 28, 28,\n",
              "       28, 28, 29, 29, 29, 29, 29, 29, 29, 29, 29, 29, 29, 29, 29, 29, 29,\n",
              "       29, 29, 29, 29, 29], dtype=int32)"
            ]
          },
          "metadata": {
            "tags": []
          },
          "execution_count": 4
        }
      ]
    },
    {
      "cell_type": "code",
      "metadata": {
        "colab": {
          "base_uri": "https://localhost:8080/",
          "height": 1000,
          "referenced_widgets": [
            "dc1892c5f6da45abb3b85c133b902cf8",
            "738b4848c39e40c5b757a7eca2680962",
            "c7d62ae168ce441295cbba4f4de63d8b",
            "fd903d204b76453ab4afe28434ff10fb",
            "1b9c77045b75409595c7b2e0bc695dcb",
            "2e89587d754a48ccb3474750792ac43f",
            "40e93d1296a54e46b1b7dba9eab19a23",
            "e3c8bf941805476d88026b74d8d4ae52"
          ]
        },
        "id": "V_geNP5tR1sv",
        "outputId": "08150424-2c29-4102-d13c-5b6f9e64bab2"
      },
      "source": [
        "from fastai.vision import *\n",
        "from fastai.metrics import error_rate\n",
        "\n",
        "classes = []\n",
        "for d in os.listdir(train_dir):\n",
        "    if os.path.isdir(os.path.join(train_dir, d)) and not d.startswith('.'):\n",
        "        classes.append(d) \n",
        "print (\"TRAIN: There are \", len(classes), \"classes:\\n\", classes) \n",
        "#for c in classes:\n",
        "    #print (\"Class:\", c)\n",
        "    #verify_images(os.path.join(train_dir, c), delete=True);\n",
        "\n",
        "classes = []\n",
        "for d in os.listdir(test_dir):\n",
        "    if os.path.isdir(os.path.join(test_dir, d)) and not d.startswith('.'):\n",
        "        classes.append(d) \n",
        "print (\"TEST: There are \", len(classes), \"classes:\\n\", classes) \n",
        "\n",
        "\n",
        "#for c in classes:\n",
        "    #print (\"Class:\", c)\n",
        "    #verify_images(os.path.join(train_dir, c), delete=True);\n",
        "\n",
        "\n",
        "#train_data  = ImageDataBunch.from_folder(train_dir, ds_tfms=get_transforms(), valid_pct=0.0).normalize(imagenet_stats)\n",
        "#test_data  = ImageDataBunch.from_folder(test_dir, ds_tfms=get_transforms(), valid_pct=1.0).normalize(imagenet_stats)\n",
        "\n",
        "'''\n",
        "old method\n",
        "data = (ImageList.from_folder(train_dir)\n",
        ".split_by_folder()\n",
        ".label_from_folder()\n",
        ".add_test_folder(test_dir)\n",
        ".databunch(bs=64)\n",
        "\n",
        ")\n",
        "'''\n",
        "\n",
        "data = ImageDataBunch.from_folder(path, train='train_swipeRight', valid='test_swipeRight', \n",
        "                                  ds_tfms=get_transforms(do_flip=False), bs=8, num_workers=4)\n",
        "\n",
        "data.show_batch(rows=2, figsize=(7,8))\n",
        "\n",
        "print(data)\n",
        "#print(test_data)\n",
        "\n",
        "#data = train_generator \n",
        "\n",
        "#learn = cnn_learner(data, models.resnet34, metrics=accuracy)\n",
        "\n",
        "print (\"There are\", len(data.train_ds), \"training images and\", len(data.valid_ds), \"validation images.\" )\n",
        "\n",
        "# See the classes and count of classes in your dataset\n",
        "print(data.classes,data.c)\n",
        "print (\"training dataset>>>> \")\n",
        "print(data.train_dl)\n",
        "\n",
        "#print(stopper)\n",
        "# See the number of images in each data set\n",
        "print(len(data.train_ds), len(data.valid_ds))\n",
        "\n",
        "# Build the CNN model with the pretrained resnet34\n",
        "# Error rate = 1 - accuracy\n",
        "learn = cnn_learner(data, models.resnet34, metrics = [accuracy])\n",
        "# Train the model on 4 epochs of data at the default learning rate\n",
        "learn.fit_one_cycle(10)\n"
      ],
      "execution_count": 5,
      "outputs": [
        {
          "output_type": "stream",
          "text": [
            "TRAIN: There are  30 classes:\n",
            " ['Kiran KC', 'Jyoti KCPokhrel', 'Baburam Bhandari', 'Hital Patel', 'Arvind Singh Vaish', 'Hemant Patel', 'Dikendra Karki', 'Javid', 'Hema Patel', 'Baldev Raj', 'Mashud', 'Mohammed', 'Kritika Karki', 'Neha Vaish', 'Neeta Rijal', 'Narayan Bhandari', 'Neha Rijal', 'Martin', 'Neil Patel', 'Meena Patel', 'Reza Noori', 'Prafulla Pokhrel', 'Sangita Bhandari', 'Vikhil Patel', 'Rina Patel', 'Surendra Katuwal', 'Pramila Bhandari', 'Shyam Lamichhane', 'Sudam Pokhrel', 'Tulashi Maya Bhandari']\n",
            "TEST: There are  30 classes:\n",
            " ['Baburam Bhandari', 'Dikendra Karki', 'Arvind Singh Vaish', 'Baldev Raj', 'Hemant Patel', 'Hema Patel', 'Hital Patel', 'Jyoti KCPokhrel', 'Mohammed', 'Meena Patel', 'Martin', 'Javid', 'Narayan Bhandari', 'Kritika Karki', 'Mashud', 'Kiran KC', 'Pramila Bhandari', 'Neil Patel', 'Sangita Bhandari', 'Shyam Lamichhane', 'Prafulla Pokhrel', 'Neha Vaish', 'Rina Patel', 'Neha Rijal', 'Neeta Rijal', 'Reza Noori', 'Surendra Katuwal', 'Vikhil Patel', 'Tulashi Maya Bhandari', 'Sudam Pokhrel']\n"
          ],
          "name": "stdout"
        },
        {
          "output_type": "stream",
          "text": [
            "/usr/local/lib/python3.7/dist-packages/fastai/vision/transform.py:247: UserWarning: torch.solve is deprecated in favor of torch.linalg.solveand will be removed in a future PyTorch release.\n",
            "torch.linalg.solve has its arguments reversed and does not return the LU factorization.\n",
            "To get the LU factorization see torch.lu, which can be used with torch.lu_solve or torch.lu_unpack.\n",
            "X = torch.solve(B, A).solution\n",
            "should be replaced with\n",
            "X = torch.linalg.solve(A, B) (Triggered internally at  /pytorch/aten/src/ATen/native/BatchLinearAlgebra.cpp:760.)\n",
            "  return _solve_func(B,A)[0][:,0]\n",
            "/usr/local/lib/python3.7/dist-packages/torch/utils/data/dataloader.py:481: UserWarning: This DataLoader will create 4 worker processes in total. Our suggested max number of worker in current system is 2, which is smaller than what this DataLoader is going to create. Please be aware that excessive worker creation might get DataLoader running slow or even freeze, lower the worker number to avoid potential slowness/freeze if necessary.\n",
            "  cpuset_checked))\n"
          ],
          "name": "stderr"
        },
        {
          "output_type": "stream",
          "text": [
            "ImageDataBunch;\n",
            "\n",
            "Train: LabelList (600 items)\n",
            "x: ImageList\n",
            "Image (3, 4, 15),Image (3, 4, 15),Image (3, 4, 15),Image (3, 4, 15),Image (3, 4, 15)\n",
            "y: CategoryList\n",
            "Baburam Bhandari,Baburam Bhandari,Baburam Bhandari,Baburam Bhandari,Baburam Bhandari\n",
            "Path: /content/drive/MyDrive/csc591_avg;\n",
            "\n",
            "Valid: LabelList (600 items)\n",
            "x: ImageList\n",
            "Image (3, 4, 15),Image (3, 4, 15),Image (3, 4, 15),Image (3, 4, 15),Image (3, 4, 15)\n",
            "y: CategoryList\n",
            "Arvind Singh Vaish,Arvind Singh Vaish,Arvind Singh Vaish,Arvind Singh Vaish,Arvind Singh Vaish\n",
            "Path: /content/drive/MyDrive/csc591_avg;\n",
            "\n",
            "Test: None\n",
            "There are 600 training images and 600 validation images.\n",
            "['Arvind Singh Vaish', 'Baburam Bhandari', 'Baldev Raj', 'Dikendra Karki', 'Hema Patel', 'Hemant Patel', 'Hital Patel', 'Javid', 'Jyoti KCPokhrel', 'Kiran KC', 'Kritika Karki', 'Martin', 'Mashud', 'Meena Patel', 'Mohammed', 'Narayan Bhandari', 'Neeta Rijal', 'Neha Rijal', 'Neha Vaish', 'Neil Patel', 'Prafulla Pokhrel', 'Pramila Bhandari', 'Reza Noori', 'Rina Patel', 'Sangita Bhandari', 'Shyam Lamichhane', 'Sudam Pokhrel', 'Surendra Katuwal', 'Tulashi Maya Bhandari', 'Vikhil Patel'] 30\n",
            "training dataset>>>> \n",
            "DeviceDataLoader(dl=<torch.utils.data.dataloader.DataLoader object at 0x7f1747efa850>, device=device(type='cuda'), tfms=[], collate_fn=<function data_collate at 0x7f174ab46b00>)\n",
            "600 600\n"
          ],
          "name": "stdout"
        },
        {
          "output_type": "stream",
          "text": [
            "Downloading: \"https://download.pytorch.org/models/resnet34-b627a593.pth\" to /root/.cache/torch/hub/checkpoints/resnet34-b627a593.pth\n"
          ],
          "name": "stderr"
        },
        {
          "output_type": "display_data",
          "data": {
            "application/vnd.jupyter.widget-view+json": {
              "model_id": "dc1892c5f6da45abb3b85c133b902cf8",
              "version_minor": 0,
              "version_major": 2
            },
            "text/plain": [
              "HBox(children=(FloatProgress(value=0.0, max=87319819.0), HTML(value='')))"
            ]
          },
          "metadata": {
            "tags": []
          }
        },
        {
          "output_type": "stream",
          "text": [
            "\n"
          ],
          "name": "stdout"
        },
        {
          "output_type": "stream",
          "text": [
            "/usr/local/lib/python3.7/dist-packages/torch/nn/functional.py:718: UserWarning: Named tensors and all their associated APIs are an experimental feature and subject to change. Please do not use them for anything important until they are released as stable. (Triggered internally at  /pytorch/c10/core/TensorImpl.h:1156.)\n",
            "  return torch.max_pool2d(input, kernel_size, stride, padding, dilation, ceil_mode)\n"
          ],
          "name": "stderr"
        },
        {
          "output_type": "display_data",
          "data": {
            "text/html": [
              "<table border=\"1\" class=\"dataframe\">\n",
              "  <thead>\n",
              "    <tr style=\"text-align: left;\">\n",
              "      <th>epoch</th>\n",
              "      <th>train_loss</th>\n",
              "      <th>valid_loss</th>\n",
              "      <th>accuracy</th>\n",
              "      <th>time</th>\n",
              "    </tr>\n",
              "  </thead>\n",
              "  <tbody>\n",
              "    <tr>\n",
              "      <td>0</td>\n",
              "      <td>4.805286</td>\n",
              "      <td>18.129168</td>\n",
              "      <td>0.041667</td>\n",
              "      <td>01:23</td>\n",
              "    </tr>\n",
              "    <tr>\n",
              "      <td>1</td>\n",
              "      <td>4.790685</td>\n",
              "      <td>41.771637</td>\n",
              "      <td>0.055000</td>\n",
              "      <td>00:04</td>\n",
              "    </tr>\n",
              "    <tr>\n",
              "      <td>2</td>\n",
              "      <td>4.685698</td>\n",
              "      <td>20.293011</td>\n",
              "      <td>0.051667</td>\n",
              "      <td>00:04</td>\n",
              "    </tr>\n",
              "    <tr>\n",
              "      <td>3</td>\n",
              "      <td>4.597489</td>\n",
              "      <td>20.316216</td>\n",
              "      <td>0.051667</td>\n",
              "      <td>00:04</td>\n",
              "    </tr>\n",
              "    <tr>\n",
              "      <td>4</td>\n",
              "      <td>4.321906</td>\n",
              "      <td>28.176468</td>\n",
              "      <td>0.048333</td>\n",
              "      <td>00:04</td>\n",
              "    </tr>\n",
              "    <tr>\n",
              "      <td>5</td>\n",
              "      <td>4.127975</td>\n",
              "      <td>8.176664</td>\n",
              "      <td>0.046667</td>\n",
              "      <td>00:04</td>\n",
              "    </tr>\n",
              "    <tr>\n",
              "      <td>6</td>\n",
              "      <td>3.930987</td>\n",
              "      <td>13.865197</td>\n",
              "      <td>0.073333</td>\n",
              "      <td>00:04</td>\n",
              "    </tr>\n",
              "    <tr>\n",
              "      <td>7</td>\n",
              "      <td>3.837174</td>\n",
              "      <td>10.290686</td>\n",
              "      <td>0.065000</td>\n",
              "      <td>00:04</td>\n",
              "    </tr>\n",
              "    <tr>\n",
              "      <td>8</td>\n",
              "      <td>3.799899</td>\n",
              "      <td>8.725714</td>\n",
              "      <td>0.081667</td>\n",
              "      <td>00:04</td>\n",
              "    </tr>\n",
              "    <tr>\n",
              "      <td>9</td>\n",
              "      <td>3.827214</td>\n",
              "      <td>8.382961</td>\n",
              "      <td>0.070000</td>\n",
              "      <td>00:04</td>\n",
              "    </tr>\n",
              "  </tbody>\n",
              "</table>"
            ],
            "text/plain": [
              "<IPython.core.display.HTML object>"
            ]
          },
          "metadata": {
            "tags": []
          }
        },
        {
          "output_type": "stream",
          "text": [
            "/usr/local/lib/python3.7/dist-packages/torch/utils/data/dataloader.py:481: UserWarning: This DataLoader will create 4 worker processes in total. Our suggested max number of worker in current system is 2, which is smaller than what this DataLoader is going to create. Please be aware that excessive worker creation might get DataLoader running slow or even freeze, lower the worker number to avoid potential slowness/freeze if necessary.\n",
            "  cpuset_checked))\n"
          ],
          "name": "stderr"
        },
        {
          "output_type": "display_data",
          "data": {
            "image/png": "[encoded data removed]",
            "text/plain": [
              "<Figure size 504x576 with 4 Axes>"
            ]
          },
          "metadata": {
            "tags": [],
            "needs_background": "light"
          }
        }
      ]
    },
    {
      "cell_type": "code",
      "metadata": {
        "colab": {
          "base_uri": "https://localhost:8080/",
          "height": 279
        },
        "id": "OtkvRlfOY-Q2",
        "outputId": "f987c641-86b9-431a-8b34-03042e14cde5"
      },
      "source": [
        "#learn.lr_find();\n",
        "learn.recorder.plot()"
      ],
      "execution_count": 6,
      "outputs": [
        {
          "output_type": "display_data",
          "data": {
            "image/png": "[encoded data removed]",
            "text/plain": [
              "<Figure size 432x288 with 1 Axes>"
            ]
          },
          "metadata": {
            "tags": [],
            "needs_background": "light"
          }
        }
      ]
    },
    {
      "cell_type": "code",
      "metadata": {
        "colab": {
          "base_uri": "https://localhost:8080/",
          "height": 799
        },
        "id": "491fVg-E2tTM",
        "outputId": "8b132ec0-440c-4e45-fead-6a4323f47aac"
      },
      "source": [
        "# Rebuild interpreter and replot confusion matrix\n",
        "interp = ClassificationInterpretation.from_learner(learn)\n",
        "interp.plot_confusion_matrix(figsize=(12,12), dpi=60)"
      ],
      "execution_count": 7,
      "outputs": [
        {
          "output_type": "display_data",
          "data": {
            "text/html": [
              ""
            ],
            "text/plain": [
              "<IPython.core.display.HTML object>"
            ]
          },
          "metadata": {
            "tags": []
          }
        },
        {
          "output_type": "stream",
          "text": [
            "/usr/local/lib/python3.7/dist-packages/torch/utils/data/dataloader.py:481: UserWarning: This DataLoader will create 4 worker processes in total. Our suggested max number of worker in current system is 2, which is smaller than what this DataLoader is going to create. Please be aware that excessive worker creation might get DataLoader running slow or even freeze, lower the worker number to avoid potential slowness/freeze if necessary.\n",
            "  cpuset_checked))\n"
          ],
          "name": "stderr"
        },
        {
          "output_type": "display_data",
          "data": {
            "image/png": "[encoded data removed]",
            "text/plain": [
              "<Figure size 720x720 with 1 Axes>"
            ]
          },
          "metadata": {
            "tags": [],
            "needs_background": "light"
          }
        }
      ]
    },
    {
      "cell_type": "code",
      "metadata": {
        "colab": {
          "base_uri": "https://localhost:8080/",
          "height": 72
        },
        "id": "8A6SQHGqlRii",
        "outputId": "7b0b8a05-87ba-4354-c78f-802c54e963a4"
      },
      "source": [
        "'''\n",
        "from tensorflow.keras.optimizers import RMSprop\n",
        "model.summary()\n",
        "model.compile(\n",
        "    loss='categorical_crossentropy',\n",
        "    optimizer=\"adam\",\n",
        "    metrics=['accuracy']\n",
        ")\n",
        "\n",
        "history = model.fit(\n",
        "    train_generator,\n",
        "    steps_per_epoch=20, #total images = batch_size * steps--kiran\n",
        "    epochs=30,\n",
        "    validation_data=validation_generator,\n",
        "    validation_steps=20 # total images = batch_size * steps--kiran\n",
        ")\n",
        "'''"
      ],
      "execution_count": 8,
      "outputs": [
        {
          "output_type": "execute_result",
          "data": {
            "application/vnd.google.colaboratory.intrinsic+json": {
              "type": "string"
            },
            "text/plain": [
              "'\\nfrom tensorflow.keras.optimizers import RMSprop\\nmodel.summary()\\nmodel.compile(\\n    loss=\\'categorical_crossentropy\\',\\n    optimizer=\"adam\",\\n    metrics=[\\'accuracy\\']\\n)\\n\\nhistory = model.fit(\\n    train_generator,\\n    steps_per_epoch=20, #total images = batch_size * steps--kiran\\n    epochs=30,\\n    validation_data=validation_generator,\\n    validation_steps=20 # total images = batch_size * steps--kiran\\n)\\n'"
            ]
          },
          "metadata": {
            "tags": []
          },
          "execution_count": 8
        }
      ]
    },
    {
      "cell_type": "code",
      "metadata": {
        "id": "C0j50g6DnsPl",
        "colab": {
          "base_uri": "https://localhost:8080/",
          "height": 108
        },
        "outputId": "1c854c4b-e275-415f-bb4f-e4c5edd85b98"
      },
      "source": [
        "'''\n",
        "import numpy as np\n",
        "from sklearn.metrics import classification_report, confusion_matrix, recall_score, accuracy_score, precision_score\n",
        "Y_pred = model.predict_generator(validation_generator,60) # class is 30, so put 29\n",
        "y_pred = np.argmax(Y_pred, axis=1)\n",
        "print('Confusion Matrix')\n",
        "print(Y_pred)\n",
        "print('y pred >>> ')\n",
        "print(y_pred)\n",
        "#print(confusion_matrix(validation_generator.classes, y_pred))\n",
        "print('classfication report')\n",
        "print(str(np.mean(recall_score(validation_generator.classes, y_pred, average=None))))\n",
        "accuracy =(accuracy_score(validation_generator.classes, y_pred))*100\n",
        "print(str(accuracy))\n",
        "prec= np.mean(precision_score(validation_generator.classes, y_pred, average=None))*100\n",
        "print(str(prec)).\n",
        "'''"
      ],
      "execution_count": 9,
      "outputs": [
        {
          "output_type": "execute_result",
          "data": {
            "application/vnd.google.colaboratory.intrinsic+json": {
              "type": "string"
            },
            "text/plain": [
              "\"\\nimport numpy as np\\nfrom sklearn.metrics import classification_report, confusion_matrix, recall_score, accuracy_score, precision_score\\nY_pred = model.predict_generator(validation_generator,60) # class is 30, so put 29\\ny_pred = np.argmax(Y_pred, axis=1)\\nprint('Confusion Matrix')\\nprint(Y_pred)\\nprint('y pred >>> ')\\nprint(y_pred)\\n#print(confusion_matrix(validation_generator.classes, y_pred))\\nprint('classfication report')\\nprint(str(np.mean(recall_score(validation_generator.classes, y_pred, average=None))))\\naccuracy =(accuracy_score(validation_generator.classes, y_pred))*100\\nprint(str(accuracy))\\nprec= np.mean(precision_score(validation_generator.classes, y_pred, average=None))*100\\nprint(str(prec)).\\n\""
            ]
          },
          "metadata": {
            "tags": []
          },
          "execution_count": 9
        }
      ]
    }
  ]
}