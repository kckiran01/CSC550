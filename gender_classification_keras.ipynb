{
  "nbformat": 4,
  "nbformat_minor": 0,
  "metadata": {
    "colab": {
      "name": "gender_classification_keras.ipynb",
      "provenance": [],
      "mount_file_id": "1Vxkwn6ah-UqWI32oCGRlvcxHXyJ3vf2C",
      "authorship_tag": "ABX9TyPGBFBBjlDBRycQwB3qlwTD",
      "include_colab_link": true
    },
    "kernelspec": {
      "name": "python3",
      "display_name": "Python 3"
    },
    "language_info": {
      "name": "python"
    },
    "accelerator": "GPU"
  },
  "cells": [
    {
      "cell_type": "markdown",
      "metadata": {
        "id": "view-in-github",
        "colab_type": "text"
      },
      "source": [
        "<a href=\"https://colab.research.google.com/github/kckiran01/CSC550/blob/master/gender_classification_keras.ipynb\" target=\"_parent\"><img src=\"https://colab.research.google.com/assets/colab-badge.svg\" alt=\"Open In Colab\"/></a>"
      ]
    },
    {
      "cell_type": "code",
      "metadata": {
        "id": "4ZAf1mwQm7-w"
      },
      "source": [
        "from google.colab import drive\n",
        "drive.mount('/content/drive')\n",
        "\n",
        "train_dir='/content/drive/MyDrive/csc591_avg/gender_class_avg/train_swipeLeft'\n",
        "test_dir='/content/drive/MyDrive/csc591_avg/gender_class_avg/test_swipeLeft'"
      ],
      "execution_count": null,
      "outputs": []
    },
    {
      "cell_type": "markdown",
      "metadata": {
        "id": "OxlcV8PSnVTI"
      },
      "source": [
        "The class_mode should be binary since we will have two classes for gender classification"
      ]
    },
    {
      "cell_type": "code",
      "metadata": {
        "id": "T-kq5VbXnSfQ"
      },
      "source": [
        "from tensorflow.keras.preprocessing.image import ImageDataGenerator\n",
        "\n",
        "#All images will be rescaled by 1./255 which may not necessary in our case though...Kiran\n",
        "\n",
        "train_datagen = ImageDataGenerator(rescale=1./255)\n",
        "test_datagen = ImageDataGenerator(rescale=1./255)\n",
        "\n",
        "#Flow training images in batches of 20 using train_datagen generator\n",
        "train_generator = train_datagen.flow_from_directory(\n",
        "    train_dir, # This is the cource directory for training images\n",
        "    target_size=(256,256), # All images will be resized..not sure if this is necessary--- Kiran\n",
        "    batch_size = 20,\n",
        "    class_mode='categorical')\n",
        "\n",
        "# Flow validation images in batches of 8 using test_datagen generator\n",
        "validation_generator = test_datagen.flow_from_directory(\n",
        "    test_dir,\n",
        "    target_size = (256,256),\n",
        "    batch_size=10,\n",
        "    shuffle=False,\n",
        "    class_mode='binary')"
      ],
      "execution_count": null,
      "outputs": []
    },
    {
      "cell_type": "code",
      "metadata": {
        "id": "2GOYO_3yngml"
      },
      "source": [
        "import tensorflow as tf\n",
        "model = tf.keras.models.Sequential([\n",
        "                                    tf.keras.layers.Conv2D(16, (3,3), activation='relu', input_shape=(256,256,3)),\n",
        "                                    tf.keras.layers.Conv2D(16, (3,3), activation='relu'),\n",
        "                                    tf.keras.layers.MaxPooling2D(2,2),\n",
        "                                    tf.keras.layers.Conv2D(32, (3,3), activation='relu'),\n",
        "                                    tf.keras.layers.Conv2D(32, (3,3), activation='relu'),\n",
        "                                    tf.keras.layers.MaxPooling2D(2,2),\n",
        "                                    tf.keras.layers.Flatten(),\n",
        "                                    tf.keras.layers.Dense(20, activation = 'relu'),\n",
        "                                    tf.keras.layers.Dense(30, activation='softmax')\n",
        "])"
      ],
      "execution_count": null,
      "outputs": []
    },
    {
      "cell_type": "code",
      "metadata": {
        "id": "RDaYTDZmnjJ1"
      },
      "source": [
        "from tensorflow.keras.optimizers import RMSprop\n",
        "model.summary()\n",
        "model.compile(\n",
        "    loss='categorical_crossentropy',\n",
        "    optimizer=\"adam\",\n",
        "    metrics=['accuracy']\n",
        ")\n",
        "\n",
        "history = model.fit(\n",
        "    train_generator,\n",
        "    steps_per_epoch=20, #total images = batch_size * steps--kiran\n",
        "    epochs=30,\n",
        "    validation_data=validation_generator,\n",
        "    validation_steps=20 # total images = batch_size * steps--kiran\n",
        ")"
      ],
      "execution_count": null,
      "outputs": []
    },
    {
      "cell_type": "code",
      "metadata": {
        "id": "RZB5ij31nl35"
      },
      "source": [
        "import numpy as np\n",
        "from sklearn.metrics import classification_report, confusion_matrix, recall_score, accuracy_score, precision_score\n",
        "Y_pred = model.predict_generator(validation_generator,2) # class is 2\n",
        "y_pred = np.argmax(Y_pred, axis=1)\n",
        "print('Confusion Matrix')\n",
        "print(Y_pred)\n",
        "print('y pred >>> git ')\n",
        "print(y_pred)\n",
        "#print(confusion_matrix(validation_generator.classes, y_pred))\n",
        "print('classfication report')\n",
        "print(str(np.mean(recall_score(validation_generator.classes, y_pred, average=None))))\n",
        "accuracy =(accuracy_score(validation_generator.classes, y_pred))*100\n",
        "print(str(accuracy))\n",
        "prec= np.mean(precision_score(validation_generator.classes, y_pred, average=None))*100\n",
        "print(str(prec))"
      ],
      "execution_count": null,
      "outputs": []
    }
  ]
}