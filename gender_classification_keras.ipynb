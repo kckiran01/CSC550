{
  "nbformat": 4,
  "nbformat_minor": 0,
  "metadata": {
    "colab": {
      "name": "gender_classification_keras.ipynb",
      "provenance": [],
      "mount_file_id": "1Vxkwn6ah-UqWI32oCGRlvcxHXyJ3vf2C",
      "authorship_tag": "ABX9TyOsYT0IIBv8Aep6RuJPnMga",
      "include_colab_link": true
    },
    "kernelspec": {
      "name": "python3",
      "display_name": "Python 3"
    },
    "language_info": {
      "name": "python"
    },
    "accelerator": "GPU"
  },
  "cells": [
    {
      "cell_type": "markdown",
      "metadata": {
        "id": "view-in-github",
        "colab_type": "text"
      },
      "source": [
        "<a href=\"https://colab.research.google.com/github/kckiran01/CSC550/blob/master/gender_classification_keras.ipynb\" target=\"_parent\"><img src=\"https://colab.research.google.com/assets/colab-badge.svg\" alt=\"Open In Colab\"/></a>"
      ]
    },
    {
      "cell_type": "code",
      "metadata": {
        "colab": {
          "base_uri": "https://localhost:8080/"
        },
        "id": "4ZAf1mwQm7-w",
        "outputId": "03a6bca3-463c-4300-e7cc-17086522928f"
      },
      "source": [
        "from google.colab import drive\n",
        "drive.mount('/content/drive')\n",
        "\n",
        "train_dir='/content/drive/MyDrive/csc591_avg/gender_class_avg/train_swipeRight'\n",
        "test_dir='/content/drive/MyDrive/csc591_avg/gender_class_avg/test_swipeRight'"
      ],
      "execution_count": null,
      "outputs": [
        {
          "output_type": "stream",
          "text": [
            "Drive already mounted at /content/drive; to attempt to forcibly remount, call drive.mount(\"/content/drive\", force_remount=True).\n"
          ],
          "name": "stdout"
        }
      ]
    },
    {
      "cell_type": "markdown",
      "metadata": {
        "id": "OxlcV8PSnVTI"
      },
      "source": [
        "The class_mode should be binary since we will have two classes for gender classification"
      ]
    },
    {
      "cell_type": "code",
      "metadata": {
        "colab": {
          "base_uri": "https://localhost:8080/"
        },
        "id": "T-kq5VbXnSfQ",
        "outputId": "4ae783cf-797c-45c5-82b7-adff7b334191"
      },
      "source": [
        "from tensorflow.keras.preprocessing.image import ImageDataGenerator\n",
        "\n",
        "#All images will be rescaled by 1./255 which may not necessary in our case though...Kiran\n",
        "\n",
        "train_datagen = ImageDataGenerator(rescale=1./255)\n",
        "test_datagen = ImageDataGenerator(rescale=1./255)\n",
        "\n",
        "#Flow training images in batches of 20 using train_datagen generator\n",
        "train_generator = train_datagen.flow_from_directory(\n",
        "    train_dir, # This is the cource directory for training images\n",
        "    target_size=(256,256), # All images will be resized..not sure if this is necessary--- Kiran\n",
        "    batch_size = 20,\n",
        "    class_mode='binary')\n",
        "\n",
        "# Flow validation images in batches of 8 using test_datagen generator\n",
        "validation_generator = test_datagen.flow_from_directory(\n",
        "    test_dir,\n",
        "    target_size = (256,256),\n",
        "    batch_size=10,\n",
        "    shuffle=False,\n",
        "    class_mode='binary')"
      ],
      "execution_count": null,
      "outputs": [
        {
          "output_type": "stream",
          "text": [
            "Found 600 images belonging to 2 classes.\n",
            "Found 600 images belonging to 2 classes.\n"
          ],
          "name": "stdout"
        }
      ]
    },
    {
      "cell_type": "code",
      "metadata": {
        "id": "2GOYO_3yngml"
      },
      "source": [
        "import tensorflow as tf\n",
        "model = tf.keras.models.Sequential([\n",
        "                                    tf.keras.layers.Conv2D(16, (3,3), activation='relu', input_shape=(256,256,3)),\n",
        "                                    tf.keras.layers.Conv2D(16, (3,3), activation='relu'),\n",
        "                                    tf.keras.layers.MaxPooling2D(2,2),\n",
        "                                    tf.keras.layers.Conv2D(32, (3,3), activation='relu'),\n",
        "                                    tf.keras.layers.Conv2D(32, (3,3), activation='relu'),\n",
        "                                    tf.keras.layers.MaxPooling2D(2,2),\n",
        "                                    tf.keras.layers.Flatten(),\n",
        "                                    tf.keras.layers.Dense(512, activation = 'relu'),\n",
        "                                    tf.keras.layers.Dense(1, activation='sigmoid')\n",
        "])"
      ],
      "execution_count": null,
      "outputs": []
    },
    {
      "cell_type": "markdown",
      "metadata": {
        "id": "fWJpaHdPr8nS"
      },
      "source": [
        "Change categorical_crossentropy to binary_crossentropy since we are using two classes."
      ]
    },
    {
      "cell_type": "code",
      "metadata": {
        "colab": {
          "base_uri": "https://localhost:8080/"
        },
        "id": "RDaYTDZmnjJ1",
        "outputId": "835a61a4-a1aa-4f66-c5fa-e9a302e97371"
      },
      "source": [
        "from tensorflow.keras.optimizers import RMSprop\n",
        "model.summary()\n",
        "model.compile(\n",
        "    loss='binary_crossentropy',\n",
        "    optimizer=\"adam\",\n",
        "    metrics=['accuracy']\n",
        ")\n",
        "\n",
        "history = model.fit(\n",
        "    train_generator,\n",
        "    steps_per_epoch=20, #total images = batch_size * steps--kiran\n",
        "    epochs=30,\n",
        "    validation_data=validation_generator,\n",
        "    validation_steps=20 # total images = batch_size * steps--kiran\n",
        ")"
      ],
      "execution_count": null,
      "outputs": [
        {
          "output_type": "stream",
          "text": [
            "Model: \"sequential_15\"\n",
            "_________________________________________________________________\n",
            "Layer (type)                 Output Shape              Param #   \n",
            "=================================================================\n",
            "conv2d_60 (Conv2D)           (None, 254, 254, 16)      448       \n",
            "_________________________________________________________________\n",
            "conv2d_61 (Conv2D)           (None, 252, 252, 16)      2320      \n",
            "_________________________________________________________________\n",
            "max_pooling2d_30 (MaxPooling (None, 126, 126, 16)      0         \n",
            "_________________________________________________________________\n",
            "conv2d_62 (Conv2D)           (None, 124, 124, 32)      4640      \n",
            "_________________________________________________________________\n",
            "conv2d_63 (Conv2D)           (None, 122, 122, 32)      9248      \n",
            "_________________________________________________________________\n",
            "max_pooling2d_31 (MaxPooling (None, 61, 61, 32)        0         \n",
            "_________________________________________________________________\n",
            "flatten_15 (Flatten)         (None, 119072)            0         \n",
            "_________________________________________________________________\n",
            "dense_30 (Dense)             (None, 512)               60965376  \n",
            "_________________________________________________________________\n",
            "dense_31 (Dense)             (None, 1)                 513       \n",
            "=================================================================\n",
            "Total params: 60,982,545\n",
            "Trainable params: 60,982,545\n",
            "Non-trainable params: 0\n",
            "_________________________________________________________________\n",
            "Epoch 1/30\n",
            "20/20 [==============================] - 175s 9s/step - loss: 0.8043 - accuracy: 0.5200 - val_loss: 0.7062 - val_accuracy: 0.0000e+00\n",
            "Epoch 2/30\n",
            "20/20 [==============================] - 39s 2s/step - loss: 0.6795 - accuracy: 0.6000 - val_loss: 0.8934 - val_accuracy: 0.0000e+00\n",
            "Epoch 3/30\n",
            "20/20 [==============================] - 11s 560ms/step - loss: 0.6707 - accuracy: 0.6025 - val_loss: 0.8687 - val_accuracy: 0.0000e+00\n",
            "Epoch 4/30\n",
            "20/20 [==============================] - 4s 181ms/step - loss: 0.6653 - accuracy: 0.6100 - val_loss: 0.9335 - val_accuracy: 0.0000e+00\n",
            "Epoch 5/30\n",
            "20/20 [==============================] - 3s 156ms/step - loss: 0.6612 - accuracy: 0.6150 - val_loss: 0.9310 - val_accuracy: 0.0000e+00\n",
            "Epoch 6/30\n",
            "20/20 [==============================] - 2s 81ms/step - loss: 0.6582 - accuracy: 0.6125 - val_loss: 0.9789 - val_accuracy: 0.2750\n",
            "Epoch 7/30\n",
            "20/20 [==============================] - 2s 79ms/step - loss: 0.6750 - accuracy: 0.5975 - val_loss: 0.8556 - val_accuracy: 0.0000e+00\n",
            "Epoch 8/30\n",
            "20/20 [==============================] - 2s 79ms/step - loss: 0.6761 - accuracy: 0.5650 - val_loss: 0.6951 - val_accuracy: 0.5900\n",
            "Epoch 9/30\n",
            "20/20 [==============================] - 2s 78ms/step - loss: 0.6769 - accuracy: 0.5950 - val_loss: 0.7042 - val_accuracy: 0.6600\n",
            "Epoch 10/30\n",
            "20/20 [==============================] - 2s 79ms/step - loss: 0.6512 - accuracy: 0.5725 - val_loss: 1.0940 - val_accuracy: 0.1150\n",
            "Epoch 11/30\n",
            "20/20 [==============================] - 2s 78ms/step - loss: 0.6517 - accuracy: 0.6325 - val_loss: 0.8357 - val_accuracy: 0.1650\n",
            "Epoch 12/30\n",
            "20/20 [==============================] - 2s 78ms/step - loss: 0.6258 - accuracy: 0.6425 - val_loss: 1.0532 - val_accuracy: 0.2250\n",
            "Epoch 13/30\n",
            "20/20 [==============================] - 2s 80ms/step - loss: 0.6170 - accuracy: 0.6425 - val_loss: 1.0027 - val_accuracy: 0.2800\n",
            "Epoch 14/30\n",
            "20/20 [==============================] - 2s 78ms/step - loss: 0.6155 - accuracy: 0.6350 - val_loss: 1.0742 - val_accuracy: 0.4150\n",
            "Epoch 15/30\n",
            "20/20 [==============================] - 2s 80ms/step - loss: 0.6135 - accuracy: 0.6525 - val_loss: 0.9296 - val_accuracy: 0.3400\n",
            "Epoch 16/30\n",
            "20/20 [==============================] - 2s 79ms/step - loss: 0.5869 - accuracy: 0.6850 - val_loss: 1.1412 - val_accuracy: 0.3450\n",
            "Epoch 17/30\n",
            "20/20 [==============================] - 2s 78ms/step - loss: 0.5894 - accuracy: 0.6800 - val_loss: 1.1483 - val_accuracy: 0.3600\n",
            "Epoch 18/30\n",
            "20/20 [==============================] - 2s 80ms/step - loss: 0.5619 - accuracy: 0.7025 - val_loss: 0.9933 - val_accuracy: 0.4500\n",
            "Epoch 19/30\n",
            "20/20 [==============================] - 2s 78ms/step - loss: 0.5679 - accuracy: 0.7075 - val_loss: 0.7204 - val_accuracy: 0.7400\n",
            "Epoch 20/30\n",
            "20/20 [==============================] - 2s 79ms/step - loss: 0.5486 - accuracy: 0.6925 - val_loss: 1.0611 - val_accuracy: 0.4000\n",
            "Epoch 21/30\n",
            "20/20 [==============================] - 2s 79ms/step - loss: 0.5665 - accuracy: 0.7200 - val_loss: 1.0248 - val_accuracy: 0.3750\n",
            "Epoch 22/30\n",
            "20/20 [==============================] - 2s 79ms/step - loss: 0.5371 - accuracy: 0.7250 - val_loss: 1.2852 - val_accuracy: 0.4550\n",
            "Epoch 23/30\n",
            "20/20 [==============================] - 2s 82ms/step - loss: 0.5120 - accuracy: 0.7425 - val_loss: 0.9726 - val_accuracy: 0.5900\n",
            "Epoch 24/30\n",
            "20/20 [==============================] - 2s 81ms/step - loss: 0.5210 - accuracy: 0.7375 - val_loss: 1.3342 - val_accuracy: 0.4250\n",
            "Epoch 25/30\n",
            "20/20 [==============================] - 2s 85ms/step - loss: 0.5002 - accuracy: 0.7550 - val_loss: 1.3955 - val_accuracy: 0.4250\n",
            "Epoch 26/30\n",
            "20/20 [==============================] - 2s 84ms/step - loss: 0.4834 - accuracy: 0.7725 - val_loss: 1.9334 - val_accuracy: 0.2500\n",
            "Epoch 27/30\n",
            "20/20 [==============================] - 2s 83ms/step - loss: 0.5161 - accuracy: 0.7475 - val_loss: 1.0923 - val_accuracy: 0.5100\n",
            "Epoch 28/30\n",
            "20/20 [==============================] - 2s 83ms/step - loss: 0.4810 - accuracy: 0.7600 - val_loss: 1.0664 - val_accuracy: 0.5800\n",
            "Epoch 29/30\n",
            "20/20 [==============================] - 2s 83ms/step - loss: 0.4524 - accuracy: 0.7775 - val_loss: 1.1765 - val_accuracy: 0.6200\n",
            "Epoch 30/30\n",
            "20/20 [==============================] - 2s 82ms/step - loss: 0.4564 - accuracy: 0.7800 - val_loss: 1.3256 - val_accuracy: 0.5500\n"
          ],
          "name": "stdout"
        }
      ]
    },
    {
      "cell_type": "code",
      "metadata": {
        "colab": {
          "base_uri": "https://localhost:8080/"
        },
        "id": "NMmgLNOVu__7",
        "outputId": "11c6f53a-1b41-4e3b-98ea-3ef20a784883"
      },
      "source": [
        "model.evaluate(validation_generator)"
      ],
      "execution_count": null,
      "outputs": [
        {
          "output_type": "stream",
          "text": [
            "60/60 [==============================] - 113s 2s/step - loss: 0.9951 - accuracy: 0.6033\n"
          ],
          "name": "stdout"
        },
        {
          "output_type": "execute_result",
          "data": {
            "text/plain": [
              "[0.9951457977294922, 0.6033333539962769]"
            ]
          },
          "metadata": {
            "tags": []
          },
          "execution_count": 101
        }
      ]
    },
    {
      "cell_type": "code",
      "metadata": {
        "colab": {
          "base_uri": "https://localhost:8080/",
          "height": 385
        },
        "id": "1bye8kwZvZoX",
        "outputId": "f7a8c44e-e3ed-4ac1-fe49-5fd123d359ca"
      },
      "source": [
        "from sklearn.metrics import classification_report, confusion_matrix, recall_score, accuracy_score, precision_score, roc_auc_score, roc_curve, auc\n",
        "import matplotlib.pyplot as plt\n",
        "\n",
        "STEP_SIZE_TEST=validation_generator.n//validation_generator.batch_size\n",
        "validation_generator.reset()\n",
        "preds = model.predict(validation_generator, verbose=1)\n",
        "\n",
        "fpr, tpr, _ = roc_curve(validation_generator.classes, preds)\n",
        "roc_auc = auc(fpr, tpr)\n",
        "plt.figure()\n",
        "lw = 2\n",
        "\n",
        "print('classfication report')\n",
        "#print(str(np.mean(recall_score(validation_generator.classes, preds))))\n",
        "#accuracy =(accuracy_score(validation_generator.classes, preds))*100\n",
        "#print(str(accuracy))\n",
        "#prec= np.mean(precision_score(validation_generator.classes, y_pred, average=None))*100\n",
        "#print(str(prec))\n",
        "\n",
        "print('fpr: '+str(np.mean(fpr)))\n",
        "print('tpr: '+str(np.mean(tpr)))\n",
        "precision = np.mean(tpr)/(np.mean(fpr)+np.mean(tpr))\n",
        "print('precision: '+str(precision))\n",
        "plt.plot(fpr, tpr, color='darkorange',\n",
        "lw=lw, label='ROC curve (area = %0.2f)' % roc_auc)\n",
        "plt.plot([0, 1], [0, 1], color='navy', lw=lw, linestyle='--')\n",
        "plt.xlim([0.0, 1.0])\n",
        "plt.ylim([0.0, 1.05])\n",
        "plt.xlabel('False Positive Rate')\n",
        "plt.ylabel('True Positive Rate')\n",
        "plt.title('Receiver operating characteristic example')\n",
        "plt.legend(loc=\"lower right\")\n",
        "plt.show()"
      ],
      "execution_count": null,
      "outputs": [
        {
          "output_type": "stream",
          "text": [
            "60/60 [==============================] - 1s 21ms/step\n",
            "classfication report\n",
            "fpr: 0.4513683886838868\n",
            "tpr: 0.5386838868388684\n",
            "precision: 0.5440964079946577\n"
          ],
          "name": "stdout"
        },
        {
          "output_type": "display_data",
          "data": {
            "image/png": "[encoded data removed]",
            "text/plain": [
              "<Figure size 432x288 with 1 Axes>"
            ]
          },
          "metadata": {
            "tags": [],
            "needs_background": "light"
          }
        }
      ]
    },
    {
      "cell_type": "code",
      "metadata": {
        "colab": {
          "base_uri": "https://localhost:8080/"
        },
        "id": "RZB5ij31nl35",
        "outputId": "8b7e4b0d-5cd0-42ce-9904-fc55861c80d5"
      },
      "source": [
        "import numpy as np\n",
        "from sklearn.metrics import classification_report, confusion_matrix, recall_score, accuracy_score, precision_score\n",
        "Y_pred = model.predict_generator(validation_generator,2) # class is 2\n",
        "y_pred = np.argmax(Y_pred, axis=1)\n",
        "print('Confusion Matrix')\n",
        "print(Y_pred)\n",
        "print('y pred >>> git ')\n",
        "print(y_pred)\n",
        "#print(confusion_matrix(validation_generator.classes, y_pred))\n",
        "print('classfication report')\n",
        "#print(str(np.mean(recall_score(validation_generator.classes, y_pred, average=None))))\n",
        "#accuracy =(accuracy_score(validation_generator.classes, y_pred))*100\n",
        "#print(str(accuracy))\n",
        "#prec= np.mean(precision_score(validation_generator.classes, y_pred, average=None))*100\n",
        "#print(str(prec))"
      ],
      "execution_count": null,
      "outputs": [
        {
          "output_type": "stream",
          "text": [
            "/usr/local/lib/python3.7/dist-packages/tensorflow/python/keras/engine/training.py:2001: UserWarning: `Model.predict_generator` is deprecated and will be removed in a future version. Please use `Model.predict`, which supports generators.\n",
            "  warnings.warn('`Model.predict_generator` is deprecated and '\n"
          ],
          "name": "stderr"
        },
        {
          "output_type": "stream",
          "text": [
            "Confusion Matrix\n",
            "[[0.5675984 ]\n",
            " [0.7711857 ]\n",
            " [0.8296725 ]\n",
            " [0.96203715]\n",
            " [0.97850305]\n",
            " [0.09240711]\n",
            " [0.19640923]\n",
            " [0.25570062]\n",
            " [0.4946847 ]\n",
            " [0.7593213 ]\n",
            " [0.9043421 ]\n",
            " [0.8759984 ]\n",
            " [0.35001558]\n",
            " [0.46924266]\n",
            " [0.8274286 ]\n",
            " [0.6539191 ]\n",
            " [0.34270114]\n",
            " [0.6085692 ]\n",
            " [0.1329522 ]\n",
            " [0.8055015 ]]\n",
            "y pred >>> git \n",
            "[0 0 0 0 0 0 0 0 0 0 0 0 0 0 0 0 0 0 0 0]\n",
            "classfication report\n"
          ],
          "name": "stdout"
        }
      ]
    }
  ]
}